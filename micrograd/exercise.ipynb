{
 "cells": [
  {
   "cell_type": "markdown",
   "metadata": {},
   "source": [
    "## Exercise on Micrograd and Pytorch"
   ]
  },
  {
   "cell_type": "code",
   "execution_count": 1,
   "metadata": {},
   "outputs": [],
   "source": [
    "from math import sin, cos, sqrt, log, exp"
   ]
  },
  {
   "cell_type": "markdown",
   "metadata": {},
   "source": [
    "### section 1: derivatives"
   ]
  },
  {
   "cell_type": "code",
   "execution_count": 2,
   "metadata": {},
   "outputs": [
    {
     "name": "stdout",
     "output_type": "stream",
     "text": [
      "6.336362190988558\n"
     ]
    }
   ],
   "source": [
    "# here is a mathematical expression that takes 3 inputs and produces one output\n",
    "def f(a, b, c):\n",
    "  return -a**3 + sin(3*b) - 1.0/c + b**2.5 - a**0.5\n",
    "\n",
    "print(f(2, 3, 4))"
   ]
  },
  {
   "cell_type": "markdown",
   "metadata": {},
   "source": [
    "The math expression is \n",
    "\n",
    "$$\n",
    "f(a, b, c) = -a^3 + \\sin(3b) -\\frac{1}{c} + \\sqrt{b^5} - \\sqrt{a}.\n",
    "$$\n",
    "Then, we have that\n",
    "$$\n",
    "\\nabla f(a, b, c) = \\left[\\frac{\\partial f}{\\partial a}, \\frac{\\partial f}{\\partial b}, \\frac{\\partial f}{\\partial c}\\right](a, b, c),\n",
    "$$\n",
    "with\n",
    "- $\\frac{\\partial f}{\\partial a}(a, b, c) = - \\left(3a^2 + \\frac{1}{2\\sqrt{a}}\\right)$;\n",
    "- $\\frac{\\partial f}{\\partial b}(a, b, c) = 3\\cos(3b) + \\frac{5}{2}\\sqrt{b^3}$;\n",
    "- $\\frac{\\partial f}{\\partial c}(a, b, c) = \\frac{1}{c^2}$;"
   ]
  },
  {
   "cell_type": "code",
   "execution_count": 3,
   "metadata": {},
   "outputs": [
    {
     "name": "stdout",
     "output_type": "stream",
     "text": [
      "OK for dim 0: expected -12.353553390593273, yours returns -12.353553390593273\n",
      "OK for dim 1: expected 10.25699027111255, yours returns 10.25699027111255\n",
      "OK for dim 2: expected 0.0625, yours returns 0.0625\n"
     ]
    }
   ],
   "source": [
    "# write the function df that returns the analytical gradient of f\n",
    "# i.e. use your skills from calculus to take the derivative, then implement the formula\n",
    "\n",
    "def gradf(a, b, c):\n",
    "    daf = -(3 * (a**2) + 0.5 / sqrt(a))\n",
    "    dbf = 3 * cos(3 * b) + 0.5 * 5 * sqrt(b**3)\n",
    "    dcf = c**(-2)\n",
    "    return [daf, dbf, dcf]\n",
    "\n",
    "# expected answer is the list of \n",
    "ans = [-12.353553390593273, 10.25699027111255, 0.0625]\n",
    "yours = gradf(2, 3, 4)\n",
    "for dim in range(3):\n",
    "  ok = 'OK' if abs(yours[dim] - ans[dim]) < 1e-5 else 'WRONG!'\n",
    "  print(f\"{ok} for dim {dim}: expected {ans[dim]}, yours returns {yours[dim]}\")"
   ]
  },
  {
   "cell_type": "markdown",
   "metadata": {},
   "source": [
    "Now, we estimate the derivatives with a right finite difference; given $0 < h \\ll 1$\n",
    "- $\\frac{\\partial f}{\\partial a}(a, b, c) \\approx \\frac{f(a + h, b, c) - f(a, b, c)}{h}$;\n",
    "- $\\frac{\\partial f}{\\partial b}(a, b, c) \\approx \\frac{f(a, b + h, c) - f(a, b, c)}{h}$;\n",
    "- $\\frac{\\partial f}{\\partial c}(a, b, c) \\approx \\frac{f(a, b, c + h) - f(a, b, c)}{h}$;"
   ]
  },
  {
   "cell_type": "code",
   "execution_count": 4,
   "metadata": {},
   "outputs": [
    {
     "name": "stdout",
     "output_type": "stream",
     "text": [
      "OK for dim 0: expected -12.353553390593273, yours returns -12.353559348809995, absolute difference is 5.958e-06\n",
      "OK for dim 1: expected 10.25699027111255, yours returns 10.256991666679482, absolute difference is 1.396e-06\n",
      "OK for dim 2: expected 0.0625, yours returns 0.062499984743169534, absolute difference is 1.526e-08\n"
     ]
    }
   ],
   "source": [
    "# now estimate the gradient numerically without any calculus, using\n",
    "# the approximation we used in the video.\n",
    "# you should not call the function df from the last cell\n",
    "\n",
    "# -----------\n",
    "def right_numerical_gradf(a, b, c, h = 1e-6):\n",
    "  daf = lambda a, b, c: (f(a + h, b, c) - f(a, b, c))/h\n",
    "  dbf = lambda a, b, c: (f(a, b + h, c) - f(a, b, c))/h\n",
    "  dcf = lambda a, b, c: (f(a, b, c + h) - f(a, b, c))/h\n",
    "  return [daf(a, b, c), dbf(a, b, c), dcf(a, b, c)]\n",
    "  \n",
    "numerical_grad = right_numerical_gradf(2, 3, 4)\n",
    "# -----------\n",
    "\n",
    "for dim in range(3):\n",
    "  ok = 'OK' if abs(numerical_grad[dim] - ans[dim]) < 1e-5 else 'WRONG!'\n",
    "  print(f\"{ok} for dim {dim}: expected {ans[dim]}, yours returns {numerical_grad[dim]}, absolute difference is {abs(ans[dim] - numerical_grad[dim]):.3e}\")"
   ]
  },
  {
   "cell_type": "code",
   "execution_count": 5,
   "metadata": {},
   "outputs": [
    {
     "name": "stdout",
     "output_type": "stream",
     "text": [
      "OK for dim 0: expected -12.353553390593273, yours returns -12.353554401639766, absolute difference is 5.958e-06\n",
      "OK for dim 1: expected 10.25699027111255, yours returns 10.256994551617105, absolute difference is 1.396e-06\n",
      "OK for dim 2: expected 0.0625, yours returns 0.06250000390650712, absolute difference is 1.526e-08\n"
     ]
    }
   ],
   "source": [
    "# there is an alternative formula that provides a much better numerical \n",
    "# approximation to the derivative of a function.\n",
    "# learn about it here: https://en.wikipedia.org/wiki/Symmetric_derivative\n",
    "# implement it. confirm that for the same step size h this version gives a\n",
    "# better approximation.\n",
    "\n",
    "# -----------\n",
    "def numerical_gradf(a, b, c, h = 1e-3):\n",
    "  daf = lambda a, b, c: (f(a + h, b, c) - f(a - h, b, c))/(2 * h)\n",
    "  dbf = lambda a, b, c: (f(a, b + h, c) - f(a, b - h, c))/(2 * h)\n",
    "  dcf = lambda a, b, c: (f(a, b, c + h) - f(a, b, c - h))/(2 * h)\n",
    "  return [daf(a, b, c), dbf(a, b, c), dcf(a, b, c)]\n",
    "\n",
    "numerical_grad2 = numerical_gradf(2, 3, 4)\n",
    "# -----------\n",
    "\n",
    "for dim in range(3):\n",
    "  ok = 'OK' if abs(numerical_grad2[dim] - ans[dim]) < 1e-5 else 'WRONG!'\n",
    "  print(f\"{ok} for dim {dim}: expected {ans[dim]}, yours returns {numerical_grad2[dim]}, absolute difference is {abs(ans[dim] - numerical_grad[dim]):.3e}\")\n"
   ]
  },
  {
   "cell_type": "markdown",
   "metadata": {},
   "source": [
    "### Section 2: support for softmax"
   ]
  },
  {
   "cell_type": "code",
   "execution_count": 6,
   "metadata": {},
   "outputs": [],
   "source": [
    "class Value:\n",
    "  \n",
    "  def __init__(self, data, _children=(), _op='', label=''):\n",
    "    self.data = data\n",
    "    self.grad = 0.0\n",
    "    self._backward = lambda: None\n",
    "    self._prev = set(_children)\n",
    "    self._op = _op\n",
    "    self.label = label\n",
    "\n",
    "  def __repr__(self):\n",
    "    return f\"Value(data={self.data})\"\n",
    "  \n",
    "  def __add__(self, other): # exactly as in the video\n",
    "    other = other if isinstance(other, Value) else Value(other)\n",
    "    out = Value(self.data + other.data, (self, other), '+')\n",
    "    \n",
    "    def _backward():\n",
    "      self.grad += 1.0 * out.grad\n",
    "      other.grad += 1.0 * out.grad\n",
    "    \n",
    "    out._backward = _backward\n",
    "    return out\n",
    "  \n",
    "  def __mul__(self, other):\n",
    "    other = other if isinstance(other, Value) else Value(other)\n",
    "    out = Value(self.data * other.data, (self, other), '*')\n",
    "    \n",
    "    def _backward():\n",
    "      self.grad += other.data * out.grad\n",
    "      other.grad += self.data * out.grad\n",
    "      \n",
    "    out._backward = _backward\n",
    "    return out\n",
    "  \n",
    "  def __pow__(self, other):\n",
    "    assert isinstance(other, (int, float)), \"Only int/float exponents are supported\"\n",
    "    out = Value(self.data**other, (self, ), '**')\n",
    "    \n",
    "    def _backward():\n",
    "      self.grad += other * (self.data**(other - 1)) * out.grad\n",
    "      \n",
    "    out._backward = _backward\n",
    "    return out\n",
    "  \n",
    "  def __truediv__(self, other):\n",
    "    return self * (other**(-1))\n",
    "    \n",
    "  \n",
    "  def exp(self):\n",
    "    out = Value(exp(self.data), (self, ), \"exp\")\n",
    "    \n",
    "    def _backward():\n",
    "      self.grad += exp(self.data) * out.grad\n",
    "      \n",
    "    out._backward = _backward\n",
    "    return out\n",
    "  \n",
    "  def log(self):\n",
    "    out = Value(log(self.data), (self,), 'log')\n",
    "    \n",
    "    def _backward():\n",
    "      self.grad += (self.data**(-1)) * out.grad\n",
    "      \n",
    "    out._backward = _backward\n",
    "    return out\n",
    "\n",
    "  def backward(self): # exactly as in video  \n",
    "    topo = []\n",
    "    visited = set()\n",
    "    def build_topo(v):\n",
    "      if v not in visited:\n",
    "        visited.add(v)\n",
    "        for child in v._prev:\n",
    "          build_topo(child)\n",
    "        topo.append(v)\n",
    "    build_topo(self)\n",
    "    \n",
    "    self.grad = 1.0\n",
    "    for node in reversed(topo):\n",
    "      node._backward()\n",
    "      \n",
    "  def __radd__(self, other): # other + self\n",
    "    return self + other\n",
    "  \n",
    "  def __neg__(self):\n",
    "    return self * (-1)"
   ]
  },
  {
   "cell_type": "code",
   "execution_count": 7,
   "metadata": {},
   "outputs": [
    {
     "name": "stdout",
     "output_type": "stream",
     "text": [
      "2.1755153626167147\n",
      "OK for dim 0: expected 0.041772570515350445, yours returns 0.041772570515350445\n",
      "OK for dim 1: expected 0.8390245074625319, yours returns 0.8390245074625319\n",
      "OK for dim 2: expected 0.005653302662216329, yours returns 0.005653302662216329\n",
      "OK for dim 3: expected -0.8864503806400986, yours returns -0.8864503806400986\n"
     ]
    }
   ],
   "source": [
    "# without referencing our code/video __too__ much, make this cell work\n",
    "# you'll have to implement (in some cases re-implemented) a number of functions\n",
    "# of the Value object, similar to what we've seen in the video.\n",
    "# instead of the squared error loss this implements the negative log likelihood\n",
    "# loss, which is very often used in classification.\n",
    "\n",
    "# this is the softmax function\n",
    "# https://en.wikipedia.org/wiki/Softmax_function\n",
    "def softmax(logits):\n",
    "  counts = [logit.exp() for logit in logits]\n",
    "  denominator = sum(counts)\n",
    "  out = [c / denominator for c in counts]\n",
    "  return out\n",
    "\n",
    "# this is the negative log likelihood loss function, pervasive in classification\n",
    "logits = [Value(0.0), Value(3.0), Value(-2.0), Value(1.0)]\n",
    "probs = softmax(logits)\n",
    "loss = -probs[3].log() # dim 3 acts as the label for this input example\n",
    "loss.backward()\n",
    "print(loss.data)\n",
    "\n",
    "ans = [0.041772570515350445, 0.8390245074625319, 0.005653302662216329, -0.8864503806400986]\n",
    "for dim in range(4):\n",
    "  ok = 'OK' if abs(logits[dim].grad - ans[dim]) < 1e-5 else 'WRONG!'\n",
    "  print(f\"{ok} for dim {dim}: expected {ans[dim]}, yours returns {logits[dim].grad}\")"
   ]
  },
  {
   "cell_type": "code",
   "execution_count": null,
   "metadata": {},
   "outputs": [],
   "source": []
  }
 ],
 "metadata": {
  "kernelspec": {
   "display_name": ".venv",
   "language": "python",
   "name": "python3"
  },
  "language_info": {
   "codemirror_mode": {
    "name": "ipython",
    "version": 3
   },
   "file_extension": ".py",
   "mimetype": "text/x-python",
   "name": "python",
   "nbconvert_exporter": "python",
   "pygments_lexer": "ipython3",
   "version": "3.13.0"
  }
 },
 "nbformat": 4,
 "nbformat_minor": 2
}
